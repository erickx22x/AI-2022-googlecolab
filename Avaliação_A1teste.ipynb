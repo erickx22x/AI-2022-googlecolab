{
  "nbformat": 4,
  "nbformat_minor": 0,
  "metadata": {
    "colab": {
      "provenance": [],
      "toc_visible": true,
      "authorship_tag": "ABX9TyMT8dqDMPSLnR6ElwBjLZju",
      "include_colab_link": true
    },
    "kernelspec": {
      "name": "python3",
      "display_name": "Python 3"
    },
    "language_info": {
      "name": "python"
    }
  },
  "cells": [
    {
      "cell_type": "markdown",
      "metadata": {
        "id": "view-in-github",
        "colab_type": "text"
      },
      "source": [
        "<a href=\"https://colab.research.google.com/github/erickx22x/AI-2022-googlecolab/blob/main/Avalia%C3%A7%C3%A3o_A1teste.ipynb\" target=\"_parent\"><img src=\"https://colab.research.google.com/assets/colab-badge.svg\" alt=\"Open In Colab\"/></a>"
      ]
    },
    {
      "cell_type": "markdown",
      "source": [
        "# Imports necessários"
      ],
      "metadata": {
        "id": "BJlkgNMtEiJB"
      }
    },
    {
      "cell_type": "code",
      "execution_count": null,
      "metadata": {
        "id": "TRdqZFaiDuzM"
      },
      "outputs": [],
      "source": [
        "import pandas as pd\n",
        "import requests\n",
        "import numpy as np\n",
        "import matplotlib.pyplot as plt\n",
        "from sklearn.model_selection import train_test_split\n",
        "import seaborn as sns\n",
        "from sklearn.preprocessing import LabelEncoder\n",
        "import plotly.express as px\n",
        "from sklearn.linear_model import LinearRegression\n",
        "from sklearn.preprocessing import StandardScaler\n",
        "%matplotlib inline"
      ]
    },
    {
      "cell_type": "markdown",
      "source": [
        "# Obtenção da base de dados\n",
        "\n",
        "Base de dados sobre benchmarks de placas de vídeo feitas utilizando as ferramentas mais conhecidas.\n",
        "\n"
      ],
      "metadata": {
        "id": "bl8MRjunEwML"
      }
    },
    {
      "cell_type": "code",
      "source": [
        "from google.colab import drive\n",
        "drive.mount('/content/drive')\n",
        "boards = pd.read_csv('/content/drive/MyDrive/Colab Notebooks/GPU_benchmarks.csv')\n"
      ],
      "metadata": {
        "id": "ES-9pRZ6EOsE"
      },
      "execution_count": null,
      "outputs": []
    },
    {
      "cell_type": "code",
      "source": [
        "boards.head()"
      ],
      "metadata": {
        "id": "buI_TmW9ZegK"
      },
      "execution_count": null,
      "outputs": []
    },
    {
      "cell_type": "code",
      "source": [
        "boards.info()"
      ],
      "metadata": {
        "id": "MIomqr4wGXnD"
      },
      "execution_count": null,
      "outputs": []
    },
    {
      "cell_type": "code",
      "source": [
        "boards.describe()"
      ],
      "metadata": {
        "id": "hGTCot8blbXb"
      },
      "execution_count": null,
      "outputs": []
    },
    {
      "cell_type": "code",
      "source": [
        "boards.corr()"
      ],
      "metadata": {
        "id": "Ic_uUyfLcKwk"
      },
      "execution_count": null,
      "outputs": []
    },
    {
      "cell_type": "markdown",
      "source": [
        "# Análise exploratória\n"
      ],
      "metadata": {
        "id": "wH4fts-7H6ZG"
      }
    },
    {
      "cell_type": "markdown",
      "source": [
        "exploração dos dados e comparação dos gráficos para definir se é possível fazer predição com essa base"
      ],
      "metadata": {
        "id": "-Iwz-kx692n2"
      }
    },
    {
      "cell_type": "code",
      "source": [
        "figura = plt.figure(figsize=(15,15))\n",
        "sns.heatmap(boards.corr(),annot = True);"
      ],
      "metadata": {
        "id": "vhJ_-Bxokews"
      },
      "execution_count": null,
      "outputs": []
    },
    {
      "cell_type": "code",
      "source": [
        "plt.hist(x=boards['price'])"
      ],
      "metadata": {
        "id": "SNmgCmH5apRb"
      },
      "execution_count": null,
      "outputs": []
    },
    {
      "cell_type": "markdown",
      "source": [
        "A princípio serão comparadas as colunas TDP e G3Dmark (nota da ferramenta, quanto mais alta melhor)"
      ],
      "metadata": {
        "id": "jwxLH_d_Oj4X"
      }
    },
    {
      "cell_type": "code",
      "source": [
        "sns.jointplot(data = boards, x ='TDP', y = 'G3Dmark')"
      ],
      "metadata": {
        "id": "_y-VvN-RPEq3"
      },
      "execution_count": null,
      "outputs": []
    },
    {
      "cell_type": "code",
      "source": [
        "sns.jointplot(data=boards, x='TDP', y='powerPerformance', kind=\"hex\")"
      ],
      "metadata": {
        "id": "jF0TX-3f5PYe"
      },
      "execution_count": null,
      "outputs": []
    },
    {
      "cell_type": "code",
      "source": [
        "sns.pairplot(boards)"
      ],
      "metadata": {
        "id": "Aj5zgTLp9Lt7"
      },
      "execution_count": null,
      "outputs": []
    },
    {
      "cell_type": "markdown",
      "source": [
        "# Preparação dos Dados"
      ],
      "metadata": {
        "id": "kz9fjV6sTopN"
      }
    },
    {
      "cell_type": "markdown",
      "source": [
        "Drop de valores nulos em cada coluna específica\n"
      ],
      "metadata": {
        "id": "jMqEXDIrloSO"
      }
    },
    {
      "cell_type": "code",
      "source": [
        "boards = boards.dropna(subset=['price'])\n",
        "boards = boards.dropna(subset=['TDP'])\n",
        "boards = boards.dropna(subset=['powerPerformance'])"
      ],
      "metadata": {
        "id": "mzH29MwUTrVP"
      },
      "execution_count": null,
      "outputs": []
    },
    {
      "cell_type": "markdown",
      "source": [
        "Drop de coluna do tipo string"
      ],
      "metadata": {
        "id": "mYSctMwXltVa"
      }
    },
    {
      "cell_type": "code",
      "source": [
        "boards.drop('gpuName', axis = 1, inplace=True)\n",
        "boards.drop('category', axis = 1, inplace=True)\n"
      ],
      "metadata": {
        "id": "RTnrYN_LeYwW"
      },
      "execution_count": null,
      "outputs": []
    },
    {
      "cell_type": "code",
      "source": [
        "boards.head()"
      ],
      "metadata": {
        "id": "Ph6vsq-fd2vg"
      },
      "execution_count": null,
      "outputs": []
    },
    {
      "cell_type": "markdown",
      "source": [
        "Alteração do dtype da coluna G2Dmark e G3Dmark para melhor análise"
      ],
      "metadata": {
        "id": "rR9TFAg6NJ7s"
      }
    },
    {
      "cell_type": "code",
      "source": [
        "boards['G3Dmark'] = boards['G3Dmark'].astype(float)"
      ],
      "metadata": {
        "id": "cb48PjAGQEfy"
      },
      "execution_count": null,
      "outputs": []
    },
    {
      "cell_type": "code",
      "source": [
        "boards['G2Dmark'] = pd.to_numeric(boards['G2Dmark'].str.replace(',', ''))"
      ],
      "metadata": {
        "id": "fu251eSgponv"
      },
      "execution_count": null,
      "outputs": []
    },
    {
      "cell_type": "markdown",
      "source": [
        "Separação de x data e y data para treinamento e previsão"
      ],
      "metadata": {
        "id": "MVuxfoCmm085"
      }
    },
    {
      "cell_type": "code",
      "source": [
        "x_data = boards.drop(columns=['G3Dmark'], axis = 1 )\n"
      ],
      "metadata": {
        "id": "jBwkOWWIfRhy"
      },
      "execution_count": null,
      "outputs": []
    },
    {
      "cell_type": "code",
      "source": [
        "y_data = boards.iloc[:,0]\n"
      ],
      "metadata": {
        "id": "RxVkTyDL1FU9"
      },
      "execution_count": null,
      "outputs": []
    },
    {
      "cell_type": "markdown",
      "source": [
        "Normalização dos dados"
      ],
      "metadata": {
        "id": "8U47IlQxr9B4"
      }
    },
    {
      "cell_type": "code",
      "source": [
        "scaler = StandardScaler()\n",
        "x_data = scaler.fit_transform(x_data)\n"
      ],
      "metadata": {
        "id": "hF6qd_9crODV"
      },
      "execution_count": null,
      "outputs": []
    },
    {
      "cell_type": "code",
      "source": [
        "x_data_treinamento, x_data_teste, y_data_treinamento, y_data_teste = train_test_split(x_data, y_data, test_size = 0.2, random_state = 25)"
      ],
      "metadata": {
        "id": "eDBEuS6LgcSR"
      },
      "execution_count": null,
      "outputs": []
    },
    {
      "cell_type": "markdown",
      "source": [
        "#Aplicação do modelo de regressão linear proposto"
      ],
      "metadata": {
        "id": "rWhW6q22nFVz"
      }
    },
    {
      "cell_type": "markdown",
      "source": [
        "##Treinamento"
      ],
      "metadata": {
        "id": "SDJ-t1Hrstjd"
      }
    },
    {
      "cell_type": "code",
      "source": [
        "regressao = LinearRegression()\n",
        "regressao.fit(x_data_treinamento, y_data_treinamento)"
      ],
      "metadata": {
        "id": "Sbq25ENSg66L"
      },
      "execution_count": null,
      "outputs": []
    },
    {
      "cell_type": "code",
      "source": [
        "regressao.coef_\n"
      ],
      "metadata": {
        "id": "sRq80IHenNN5"
      },
      "execution_count": null,
      "outputs": []
    },
    {
      "cell_type": "code",
      "source": [
        "coef_df = pd.DataFrame(regressao.coef_, columns=['Coeficiente'])\n",
        "coef_df"
      ],
      "metadata": {
        "id": "D7pGnvsJs0Zg"
      },
      "execution_count": null,
      "outputs": []
    },
    {
      "cell_type": "markdown",
      "source": [
        "##Previsão de dados de teste"
      ],
      "metadata": {
        "id": "tmE9u_SoiVDa"
      }
    },
    {
      "cell_type": "markdown",
      "source": [
        "Os ajustes ao modelo foram feitos, agora é o momento da avaliação do desempenho e prever os valores de teste"
      ],
      "metadata": {
        "id": "CeBgNdmD-YFX"
      }
    },
    {
      "cell_type": "code",
      "source": [
        "regressao.score(x_data_teste, y_data_teste), regressao.score(x_data_treinamento, y_data_treinamento)"
      ],
      "metadata": {
        "id": "WDSWO1K7nUNq"
      },
      "execution_count": null,
      "outputs": []
    },
    {
      "cell_type": "code",
      "source": [
        "predicao = regressao.predict(x_data_teste)"
      ],
      "metadata": {
        "id": "sbF4iYEGoQXv"
      },
      "execution_count": null,
      "outputs": []
    },
    {
      "cell_type": "code",
      "source": [
        "sns.scatterplot(x=y_data_teste, y=predicao)"
      ],
      "metadata": {
        "id": "AgtDdZraor9Z"
      },
      "execution_count": null,
      "outputs": []
    },
    {
      "cell_type": "markdown",
      "source": [
        "# Avaliação do modelo"
      ],
      "metadata": {
        "id": "gSW8wdAEib0j"
      }
    },
    {
      "cell_type": "markdown",
      "source": [
        "##Resultados"
      ],
      "metadata": {
        "id": "8eENuY-rAiqy"
      }
    },
    {
      "cell_type": "markdown",
      "source": [
        "Podemos observar que o desempenho do modelo proposto é considerado bom visto que atinge 83% de acurácia"
      ],
      "metadata": {
        "id": "RFRuPOpNiroU"
      }
    },
    {
      "cell_type": "code",
      "source": [
        "from sklearn import metrics\n",
        "print('MAE', metrics.mean_absolute_error(y_data_teste, predicao))\n",
        "print('MSE', metrics.mean_squared_error(y_data_teste, predicao))\n",
        "print('RMSE', np.sqrt(metrics.mean_squared_error(y_data_teste, predicao)))\n",
        "print('R^2 : ', metrics.r2_score(y_data_teste, predicao))"
      ],
      "metadata": {
        "id": "FI1R3Ka-xiaq"
      },
      "execution_count": null,
      "outputs": []
    },
    {
      "cell_type": "markdown",
      "source": [
        "## Resíduos"
      ],
      "metadata": {
        "id": "1dCQr-pnH3Mk"
      }
    },
    {
      "cell_type": "markdown",
      "source": [
        "E por fim o cálculo dos resíduos para confirmação da manipulação e exibição dos dados bem como regressão linear proposta"
      ],
      "metadata": {
        "id": "Xs7sCANi_pcv"
      }
    },
    {
      "cell_type": "code",
      "source": [
        "residuos = y_data_teste - predicao"
      ],
      "metadata": {
        "id": "7g-BkgmB3VUY"
      },
      "execution_count": null,
      "outputs": []
    },
    {
      "cell_type": "code",
      "source": [
        "plt.hist(residuos)"
      ],
      "metadata": {
        "id": "0rGc1EmE3cWn"
      },
      "execution_count": null,
      "outputs": []
    }
  ]
}